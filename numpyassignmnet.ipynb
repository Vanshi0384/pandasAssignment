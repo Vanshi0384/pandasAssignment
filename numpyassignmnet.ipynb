{
 "cells": [
  {
   "cell_type": "code",
   "execution_count": 32,
   "id": "bcabfb04-b6f0-4447-8035-53e3eb465960",
   "metadata": {},
   "outputs": [
    {
     "name": "stdout",
     "output_type": "stream",
     "text": [
      "<U1\n",
      "<class 'list'>\n"
     ]
    }
   ],
   "source": [
    "#Question:1\n",
    "#Datatype of list_ and array_list are same.\n",
    "#command to \n",
    "print(array_list.dtype)\n",
    "print(type(list_))"
   ]
  },
  {
   "cell_type": "code",
   "execution_count": 40,
   "id": "6cce5f6b-dcee-4ff9-89e8-89908917d0ca",
   "metadata": {},
   "outputs": [
    {
     "name": "stdout",
     "output_type": "stream",
     "text": [
      "<class 'numpy.str_'>\n",
      "<class 'numpy.str_'>\n",
      "<class 'numpy.str_'>\n",
      "<class 'numpy.str_'>\n",
      "<class 'numpy.str_'>\n"
     ]
    }
   ],
   "source": [
    "#question2\n",
    "#datatypes of each element of list_:\n",
    "for x in list_ :\n",
    "    print(type(x))\n",
    "\n",
    "#datatypes pf element in array_list:\n",
    "for y in array_list:\n",
    "    print(type(y))\n",
    "    \n"
   ]
  },
  {
   "cell_type": "code",
   "execution_count": 46,
   "id": "4a3916a0-a536-4c23-a2eb-8a6bdb1f90c1",
   "metadata": {},
   "outputs": [],
   "source": [
    "#question3\n",
    "array_list = np.array(object = list_, dtype = int)\n",
    "#yes there is a diifference between datatype of list_ and array_list.\n",
    "#to print the datatype of list_:\n",
    "for x in list_:\n",
    "    print(type(x))\n",
    "\n",
    "#to print the datatype of array_list:\n",
    "for y in array_list:\n",
    "    print(type(y))\n"
   ]
  },
  {
   "cell_type": "code",
   "execution_count": 45,
   "id": "78a6c0a8-f20d-466b-9b69-c5cee6635486",
   "metadata": {},
   "outputs": [
    {
     "data": {
      "text/plain": [
       "numpy.ndarray"
      ]
     },
     "execution_count": 45,
     "metadata": {},
     "output_type": "execute_result"
    }
   ],
   "source": [
    "#Question4:\n",
    "# to find shape of num_array:\n",
    "num_array.shape\n",
    "\n",
    "#to find size of num_array:\n",
    "num_array.size\n"
   ]
  },
  {
   "cell_type": "code",
   "execution_count": 59,
   "id": "2e65a134-26e7-4c50-9b22-d2c501cba517",
   "metadata": {},
   "outputs": [
    {
     "data": {
      "text/plain": [
       "array([[0., 0., 0.],\n",
       "       [0., 0., 0.],\n",
       "       [0., 0., 0.]])"
      ]
     },
     "execution_count": 59,
     "metadata": {},
     "output_type": "execute_result"
    }
   ],
   "source": [
    "#Question 5:\n",
    "np.zeros((3,3))"
   ]
  },
  {
   "cell_type": "code",
   "execution_count": 64,
   "id": "8388ada6-f525-40f7-85e1-1a32feaec341",
   "metadata": {},
   "outputs": [
    {
     "data": {
      "text/plain": [
       "matrix([[1., 0., 0., 0., 0.],\n",
       "        [0., 1., 0., 0., 0.],\n",
       "        [0., 0., 1., 0., 0.],\n",
       "        [0., 0., 0., 1., 0.],\n",
       "        [0., 0., 0., 0., 1.]])"
      ]
     },
     "execution_count": 64,
     "metadata": {},
     "output_type": "execute_result"
    }
   ],
   "source": [
    "#Question 6:\n",
    "import numpy.matlib as nm\n",
    "nm.eye(5,5)\n"
   ]
  },
  {
   "cell_type": "code",
   "execution_count": null,
   "id": "040e8092-0ae7-4254-9db6-32c52a8d9de1",
   "metadata": {},
   "outputs": [],
   "source": []
  }
 ],
 "metadata": {
  "kernelspec": {
   "display_name": "Python 3 (ipykernel)",
   "language": "python",
   "name": "python3"
  },
  "language_info": {
   "codemirror_mode": {
    "name": "ipython",
    "version": 3
   },
   "file_extension": ".py",
   "mimetype": "text/x-python",
   "name": "python",
   "nbconvert_exporter": "python",
   "pygments_lexer": "ipython3",
   "version": "3.10.8"
  }
 },
 "nbformat": 4,
 "nbformat_minor": 5
}
